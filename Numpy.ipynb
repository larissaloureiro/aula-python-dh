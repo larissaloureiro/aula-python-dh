{
 "cells": [
  {
   "cell_type": "markdown",
   "metadata": {
    "colab_type": "text",
    "id": "sCoHPoSJV2Xn"
   },
   "source": [
    "### > Aula - 08/09/2021<br>\n",
    "> Aula: 04 <br>\n",
    "> Módulo: 00 <br>\n",
    "> Turma: DSTN07"
   ]
  },
  {
   "cell_type": "markdown",
   "metadata": {
    "colab_type": "text",
    "id": "JrsHXZd6V2Xn"
   },
   "source": [
    "O objetivo dessa aula é introduzir a biblioteca Numpy.\n"
   ]
  },
  {
   "cell_type": "markdown",
   "metadata": {
    "colab_type": "text",
    "id": "7wFxuwqgV2Xo"
   },
   "source": [
    "**Tópicos**:\n",
    "* Numpy:\n",
    " - ndarray\n",
    " - Inicialização de Arrays Numpy e Primeiros Passos\n",
    " - Criando arrays com funções\n",
    " - Manipulação das dimensões de um array\n",
    " - Selecionando partes do array"
   ]
  },
  {
   "cell_type": "markdown",
   "metadata": {
    "colab_type": "text",
    "id": "86C1gSC-V2Xp"
   },
   "source": [
    "# Numpy (Parte I)"
   ]
  },
  {
   "cell_type": "markdown",
   "metadata": {},
   "source": [
    "### O que é numpy??"
   ]
  },
  {
   "cell_type": "markdown",
   "metadata": {},
   "source": [
    "O NumPy é uma poderosa biblioteca Python que é usada principalmente para realizar cálculos em Arrays Multidimensionais. O NumPy fornece um grande conjunto de funções e operações de biblioteca que ajudam os programadores a executar facilmente cálculos numéricos.\n",
    "Esses tipos de cálculos numéricos são amplamente utilizados em tarefas como:\n",
    "\n",
    "* Modelos de Machine Learning.\n",
    "* Processamento de Imagem e Computação Gráfica.\n",
    "* Tarefas matemáticas."
   ]
  },
  {
   "cell_type": "markdown",
   "metadata": {},
   "source": [
    "### O  ndarry"
   ]
  },
  {
   "cell_type": "markdown",
   "metadata": {},
   "source": [
    "A estrutura de dados mais importante que o NumPy fornece é um objeto poderoso, um tipo de Array, chamada ndarray.<br>\n",
    "\n",
    "Esse Array NumPy é uma tabela de elementos (geralmente números), todos do mesmo tipo, indexados por uma tupla de inteiros positivos.<br>\n",
    "\n",
    "O array do módulo numpy é otimizado para grandes volumes de dados, tem uma estrutura interna compacta e realiza várias operações em paralelo. Além disso, o array numpy suporta tipos de dados não numéricos e é possível fazer operações matemáticas sobre todos os seus valores com apenas uma instrução.<br>"
   ]
  },
  {
   "cell_type": "markdown",
   "metadata": {},
   "source": [
    "### numpy.array é a função para criar um ndarray"
   ]
  },
  {
   "cell_type": "markdown",
   "metadata": {},
   "source": [
    "Os principais atributos do ndarray são:\n",
    "* os tipos de dados (dtype) \n",
    "* shape\n",
    "* size\n",
    "* ndim"
   ]
  },
  {
   "cell_type": "code",
   "execution_count": 1,
   "metadata": {
    "colab": {},
    "colab_type": "code",
    "executionInfo": {
     "elapsed": 1840,
     "status": "ok",
     "timestamp": 1600436110925,
     "user": {
      "displayName": "Thalita Chargel",
      "photoUrl": "https://lh3.googleusercontent.com/a-/AOh14Gh8PgWBiVHm13ntiUJL_lOS_3i3rnWCDF9kwk7mWQ=s64",
      "userId": "03267753700787172529"
     },
     "user_tz": 180
    },
    "id": "eWl2Ej7uV2Xs"
   },
   "outputs": [],
   "source": [
    "import numpy as np"
   ]
  },
  {
   "cell_type": "code",
   "execution_count": 2,
   "metadata": {
    "colab": {},
    "colab_type": "code",
    "executionInfo": {
     "elapsed": 1282,
     "status": "ok",
     "timestamp": 1600436355420,
     "user": {
      "displayName": "Thalita Chargel",
      "photoUrl": "https://lh3.googleusercontent.com/a-/AOh14Gh8PgWBiVHm13ntiUJL_lOS_3i3rnWCDF9kwk7mWQ=s64",
      "userId": "03267753700787172529"
     },
     "user_tz": 180
    },
    "id": "Orcb-WAOV2X0"
   },
   "outputs": [
    {
     "name": "stdout",
     "output_type": "stream",
     "text": [
      "[[20 23 55]\n",
      " [52 19 21]\n",
      " [38 64 11]\n",
      " [19 15 41]]\n"
     ]
    }
   ],
   "source": [
    "my_array = np.array(((20,23,55),  #usamos a função array do NumPy para criar uma matriz\n",
    "                     (52,19,21),\n",
    "                     (38,64,11),\n",
    "                     (19,15,41)))\n",
    "print(my_array)"
   ]
  },
  {
   "cell_type": "code",
   "execution_count": 3,
   "metadata": {
    "colab": {
     "base_uri": "https://localhost:8080/",
     "height": 51
    },
    "colab_type": "code",
    "executionInfo": {
     "elapsed": 928,
     "status": "ok",
     "timestamp": 1600436379451,
     "user": {
      "displayName": "Thalita Chargel",
      "photoUrl": "https://lh3.googleusercontent.com/a-/AOh14Gh8PgWBiVHm13ntiUJL_lOS_3i3rnWCDF9kwk7mWQ=s64",
      "userId": "03267753700787172529"
     },
     "user_tz": 180
    },
    "id": "6Eb9zuCWV2X4",
    "outputId": "f75db550-8bd3-41d7-b169-14d44f8ddc93"
   },
   "outputs": [
    {
     "data": {
      "text/plain": [
       "dtype('int32')"
      ]
     },
     "execution_count": 3,
     "metadata": {},
     "output_type": "execute_result"
    }
   ],
   "source": [
    "# Para saber o tipo de dado da matriz podemos recorrer ao atributo dtype\n",
    "my_array.dtype"
   ]
  },
  {
   "cell_type": "code",
   "execution_count": 4,
   "metadata": {
    "colab": {
     "base_uri": "https://localhost:8080/",
     "height": 34
    },
    "colab_type": "code",
    "executionInfo": {
     "elapsed": 844,
     "status": "ok",
     "timestamp": 1600436424339,
     "user": {
      "displayName": "Thalita Chargel",
      "photoUrl": "https://lh3.googleusercontent.com/a-/AOh14Gh8PgWBiVHm13ntiUJL_lOS_3i3rnWCDF9kwk7mWQ=s64",
      "userId": "03267753700787172529"
     },
     "user_tz": 180
    },
    "id": "o6j_v9hdV2X7",
    "outputId": "8445ad62-14ee-4b22-b653-76cf8979509e"
   },
   "outputs": [
    {
     "data": {
      "text/plain": [
       "(4, 3)"
      ]
     },
     "execution_count": 4,
     "metadata": {},
     "output_type": "execute_result"
    }
   ],
   "source": [
    "# para saber o formato de um array temos o atributo shape. Ele retorna uma tupla contendo o formato do array\n",
    "my_array.shape"
   ]
  },
  {
   "cell_type": "code",
   "execution_count": 5,
   "metadata": {
    "colab": {},
    "colab_type": "code",
    "id": "-ijQqc1uV2X_"
   },
   "outputs": [
    {
     "data": {
      "text/plain": [
       "12"
      ]
     },
     "execution_count": 5,
     "metadata": {},
     "output_type": "execute_result"
    }
   ],
   "source": [
    "# O atributo size retorna o número de elementos na matriz.\n",
    "my_array.size"
   ]
  },
  {
   "cell_type": "code",
   "execution_count": 8,
   "metadata": {
    "colab": {},
    "colab_type": "code",
    "id": "7ZG3i7rgV2YC"
   },
   "outputs": [
    {
     "data": {
      "text/plain": [
       "2"
      ]
     },
     "execution_count": 8,
     "metadata": {},
     "output_type": "execute_result"
    }
   ],
   "source": [
    "# O atributo ndim retornará o número de dimensões da matriz\n",
    "my_array.ndim"
   ]
  },
  {
   "cell_type": "markdown",
   "metadata": {},
   "source": [
    "#### Desafio 01 - Gere e mostre a matriz transposta da matriz_inicial: (5 min - pesquisem no google)\n",
    "---"
   ]
  },
  {
   "cell_type": "code",
   "execution_count": 9,
   "metadata": {},
   "outputs": [],
   "source": [
    "matriz_inicial = np.array([[10, 20, 30],\n",
    "                           [31, 50, 64],\n",
    "                           [70, 80, 90],\n",
    "                           [21, 54, 87]])\n",
    "\n",
    "# Criando uma mariz Transposta:"
   ]
  },
  {
   "cell_type": "code",
   "execution_count": 10,
   "metadata": {},
   "outputs": [
    {
     "data": {
      "text/plain": [
       "array([[10, 31, 70, 21],\n",
       "       [20, 50, 80, 54],\n",
       "       [30, 64, 90, 87]])"
      ]
     },
     "execution_count": 10,
     "metadata": {},
     "output_type": "execute_result"
    }
   ],
   "source": [
    "matriz_inicial.T"
   ]
  },
  {
   "cell_type": "markdown",
   "metadata": {},
   "source": [
    "### Selecionado partes do array\n",
    "---"
   ]
  },
  {
   "cell_type": "code",
   "execution_count": null,
   "metadata": {
    "colab": {},
    "colab_type": "code",
    "id": "ItdL8L8eV2YH"
   },
   "outputs": [],
   "source": [
    "# para selecionar elementos na matriz podemos usar a seguinte sintaxe\n",
    "print(my_array[0,2])"
   ]
  },
  {
   "cell_type": "code",
   "execution_count": null,
   "metadata": {},
   "outputs": [],
   "source": [
    "# selecionando apenas a primeira linha\n",
    "print (my_array[0,:])"
   ]
  },
  {
   "cell_type": "code",
   "execution_count": null,
   "metadata": {},
   "outputs": [],
   "source": [
    "# selecionando apenas a  coluna 2\n",
    "print(my_array[:,2])"
   ]
  },
  {
   "cell_type": "markdown",
   "metadata": {},
   "source": [
    "### Criando arrays com funções definidas\n",
    "---"
   ]
  },
  {
   "cell_type": "code",
   "execution_count": null,
   "metadata": {},
   "outputs": [],
   "source": [
    "# np.zeros: cria um array com todos os elementos sendo 0.\n",
    "z = np.zeros([4,4], dtype = int)\n",
    "print(z)"
   ]
  },
  {
   "cell_type": "code",
   "execution_count": null,
   "metadata": {},
   "outputs": [],
   "source": [
    "# np.ones: cria um array com todos os elementos sendo 1.\n",
    "o = np.ones([4,4], dtype = int)\n",
    "print(o)"
   ]
  },
  {
   "cell_type": "code",
   "execution_count": null,
   "metadata": {},
   "outputs": [],
   "source": [
    "# np.empty: cria um array cujo conteúdo inicial é aleatório.\n",
    "e = np.empty([4,4], dtype = int)\n",
    "print(e)"
   ]
  },
  {
   "cell_type": "code",
   "execution_count": null,
   "metadata": {},
   "outputs": [],
   "source": [
    "# np.identity; cria um array indentidade.\n",
    "i = np.identity(4, dtype = int)\n",
    "print(i)"
   ]
  },
  {
   "cell_type": "markdown",
   "metadata": {
    "colab_type": "text",
    "id": "DB7ch-DIV2YK"
   },
   "source": [
    "### Manipulação das dimensões de um array\n",
    "---"
   ]
  },
  {
   "cell_type": "markdown",
   "metadata": {
    "colab_type": "text",
    "id": "ddPo00WrV2YK"
   },
   "source": [
    "Se temos um array de dimensões n x m, podemos aplicar uma reformatação, para que mude suas dimensões sem alterar os dados.\n",
    "O importante é que o produto n.m seja constante."
   ]
  },
  {
   "cell_type": "markdown",
   "metadata": {},
   "source": [
    "Exemplo:\n",
    "\n",
    "n(numeros de linhas) = 4\n",
    "\n",
    "m(numero de colunas) = 4\n",
    "\n",
    "n x m = 16\n",
    "\n",
    "Possibilidades de reformulação:\n",
    "    \n",
    "* 2*8 </n>\n",
    "* 8*2 </n>\n",
    "* 1*16 </n>"
   ]
  },
  {
   "cell_type": "code",
   "execution_count": null,
   "metadata": {
    "colab": {},
    "colab_type": "code",
    "id": "trujvE0hV2YL"
   },
   "outputs": [],
   "source": [
    "my_array = np.array(((33, 12, 93, 21),\n",
    "                     (17, 26, 11, 90),\n",
    "                     (23, 18, 16, 22),\n",
    "                     (48, 23, 97, 19)))\n",
    "print(my_array)"
   ]
  },
  {
   "cell_type": "code",
   "execution_count": null,
   "metadata": {
    "colab": {},
    "colab_type": "code",
    "id": "NVriyYE3V2YO"
   },
   "outputs": [],
   "source": [
    "# função reshape\n",
    "my_array_reshaped = np.reshape(my_array, (8,2))\n",
    "print (my_array_reshaped)"
   ]
  },
  {
   "cell_type": "code",
   "execution_count": null,
   "metadata": {},
   "outputs": [],
   "source": [
    "my_array_reshaped = np.reshape(my_array, (2,8))\n",
    "print (my_array_reshaped)"
   ]
  },
  {
   "cell_type": "code",
   "execution_count": null,
   "metadata": {
    "colab": {},
    "colab_type": "code",
    "id": "jyCSuAoBV2YU"
   },
   "outputs": [],
   "source": [
    "#O comando ravel distorce o array multidimensional e o transforma em um array 1D.\n",
    "uma_dimensao = my_array_reshaped.ravel()\n",
    "print(uma_dimensao)"
   ]
  },
  {
   "cell_type": "code",
   "execution_count": null,
   "metadata": {
    "colab": {},
    "colab_type": "code",
    "id": "Ip6dwG5SV2Ya"
   },
   "outputs": [],
   "source": [
    "# Posso ter uma lista e transformá-la\n",
    "lista = [1,2,3]\n",
    "print(type(lista))"
   ]
  },
  {
   "cell_type": "code",
   "execution_count": null,
   "metadata": {
    "colab": {},
    "colab_type": "code",
    "id": "-wDo5WJVV2Yc"
   },
   "outputs": [],
   "source": [
    "# podemos definir o tipo\n",
    "np_array_da_lista = np.array(lista, int) \n",
    "print(np_array_da_lista)"
   ]
  },
  {
   "cell_type": "code",
   "execution_count": null,
   "metadata": {
    "colab": {},
    "colab_type": "code",
    "id": "KShmlMXZV2Yf"
   },
   "outputs": [],
   "source": [
    "type(np_array_da_lista)"
   ]
  },
  {
   "cell_type": "markdown",
   "metadata": {
    "colab_type": "text",
    "id": "sWTQPEL_V2Y8"
   },
   "source": [
    "#### Desafio 02 - For loop em arrays:\n",
    "---\n",
    "Print elemento por elemento (utilizando For loop) o seguinte array:"
   ]
  },
  {
   "cell_type": "code",
   "execution_count": 22,
   "metadata": {
    "colab": {},
    "colab_type": "code",
    "id": "IBnKDmDgV2Y9"
   },
   "outputs": [],
   "source": [
    "array_exercicio = np.array([[1,2,3],[4,5,6]])"
   ]
  },
  {
   "cell_type": "code",
   "execution_count": 23,
   "metadata": {},
   "outputs": [
    {
     "name": "stdout",
     "output_type": "stream",
     "text": [
      "1\n",
      "2\n",
      "3\n",
      "4\n",
      "5\n",
      "6\n"
     ]
    }
   ],
   "source": []
  },
  {
   "cell_type": "markdown",
   "metadata": {},
   "source": [
    "#### Desafio 3 -  Manipulação de matrizes em imagens:\n",
    "---\n",
    "Quais os principais atributos do ndarray da imagem abaixo?"
   ]
  },
  {
   "cell_type": "code",
   "execution_count": null,
   "metadata": {},
   "outputs": [],
   "source": [
    "from PIL import Image\n",
    "im = Image.open(\"C:/Users/vinicius.sousa.ext/Downloads/sample.png\")\n",
    "im"
   ]
  },
  {
   "cell_type": "code",
   "execution_count": null,
   "metadata": {},
   "outputs": [],
   "source": [
    "# Transformando a imagem em array:\n",
    "np_im = np.array(im)\n",
    "np_im"
   ]
  },
  {
   "cell_type": "code",
   "execution_count": null,
   "metadata": {},
   "outputs": [],
   "source": [
    "# Selecionado partes do array:\n",
    "print(\"Pixel(0,0):\",np_im[0][0])\n",
    "print(\"Pixel(419,419):\",np_im[419][419])\n",
    "print(\"Pixel(839,839):\",np_im[839][839])"
   ]
  },
  {
   "cell_type": "code",
   "execution_count": null,
   "metadata": {},
   "outputs": [],
   "source": [
    "# Verificação dos atributos do array da imagem:\n",
    "print(\"--- Atributos do array da imagem ---\")\n",
    "print(\"Type:\",np_im.dtype)\n",
    "print(\"Shape:\",np_im.shape)\n",
    "print(\"Size:\",np_im.size)\n",
    "print(\"Dim:\",np_im.ndim)"
   ]
  },
  {
   "cell_type": "markdown",
   "metadata": {},
   "source": [
    "---\n",
    "Refaça o desafio com uma imagem menor do que o exemplo e com uma imagem de um icone famoso (Ex: Apple, JBL, ...) e tire as suas concluções das matrizes."
   ]
  },
  {
   "cell_type": "code",
   "execution_count": null,
   "metadata": {},
   "outputs": [],
   "source": []
  }
 ],
 "metadata": {
  "colab": {
   "name": "DSTN07 - Numpy - Parte I.ipynb",
   "provenance": []
  },
  "kernelspec": {
   "display_name": "Python 3 (ipykernel)",
   "language": "python",
   "name": "python3"
  },
  "language_info": {
   "codemirror_mode": {
    "name": "ipython",
    "version": 3
   },
   "file_extension": ".py",
   "mimetype": "text/x-python",
   "name": "python",
   "nbconvert_exporter": "python",
   "pygments_lexer": "ipython3",
   "version": "3.9.12"
  },
  "toc": {
   "base_numbering": 1,
   "nav_menu": {},
   "number_sections": true,
   "sideBar": true,
   "skip_h1_title": false,
   "title_cell": "Table of Contents",
   "title_sidebar": "Contents",
   "toc_cell": false,
   "toc_position": {
    "height": "calc(100% - 180px)",
    "left": "10px",
    "top": "150px",
    "width": "252px"
   },
   "toc_section_display": true,
   "toc_window_display": true
  }
 },
 "nbformat": 4,
 "nbformat_minor": 4
}
