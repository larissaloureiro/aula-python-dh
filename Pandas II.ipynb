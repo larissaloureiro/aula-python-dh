{
 "cells": [
  {
   "cell_type": "markdown",
   "metadata": {
    "colab_type": "text",
    "id": "iFtOKPFj0U8_"
   },
   "source": [
    "## Pandas (Parte II)"
   ]
  },
  {
   "cell_type": "code",
   "execution_count": 2,
   "metadata": {},
   "outputs": [],
   "source": [
    "import numpy as np\n",
    "import pandas as pd"
   ]
  },
  {
   "cell_type": "markdown",
   "metadata": {},
   "source": [
    "## Leitura de dados"
   ]
  },
  {
   "cell_type": "markdown",
   "metadata": {},
   "source": [
    "Pandas permiter trabalhar com formatos diferentes de entrada e saída (IO). Exemplo:\n",
    "\n",
    "* JSON : pd.read_json()\n",
    "* HTML  pd.read_html()\n",
    "* CSV : pd.read_csv()\n",
    "* Excel : pd.read_excel()\n",
    "* SQL : pd.read_sql()"
   ]
  },
  {
   "cell_type": "markdown",
   "metadata": {
    "colab_type": "text",
    "id": "DKGRg1i40U9w"
   },
   "source": [
    "## Carregando dados de um csv e do excel com Pandas"
   ]
  },
  {
   "cell_type": "markdown",
   "metadata": {
    "colab_type": "text",
    "id": "V0MLOIlV0U9x"
   },
   "source": [
    "No dia a dia é mais comum que tenhamos acesso à fontes de dados em arquivos de formato csv, xlsx, ou acesso direto a bancos de dados. Dessa forma, o pandas pode ser utilizado parar carregar os dados disponíveis em formato de data frame. "
   ]
  },
  {
   "cell_type": "markdown",
   "metadata": {
    "colab_type": "text",
    "id": "0KqeZLL90U9x"
   },
   "source": [
    "Aqui iremos demonstrar o carregamento de um arquivo csv."
   ]
  },
  {
   "cell_type": "markdown",
   "metadata": {
    "colab_type": "text",
    "id": "AwnwUGF-0U9y"
   },
   "source": [
    "Mas o que é um arquivo csv?"
   ]
  },
  {
   "cell_type": "markdown",
   "metadata": {
    "colab_type": "text",
    "id": "91swUf4U0U9z"
   },
   "source": [
    "CSV: **C**omma **S**eparated **V**alues<br>\n",
    "Arquivo separado por vírgulas."
   ]
  },
  {
   "cell_type": "markdown",
   "metadata": {
    "colab_type": "text",
    "id": "Vz8R7fKA0U9z"
   },
   "source": [
    "<img src=https://s3.amazonaws.com/cdn.freshdesk.com/data/helpdesk/attachments/production/1080247870/original/UDHlNQUo4ju-0SSFws_XskGYvIf5KZNn4w.png?1563457877>"
   ]
  },
  {
   "cell_type": "markdown",
   "metadata": {
    "colab_type": "text",
    "id": "7VkCGrh40U90"
   },
   "source": [
    "Trazendo dados de um csv"
   ]
  },
  {
   "cell_type": "markdown",
   "metadata": {
    "colab_type": "text",
    "id": "rTEUL6f90U90"
   },
   "source": [
    "pd.```read_csv```<br>\n",
    "<a href=\"https://pandas.pydata.org/pandas-docs/stable/reference/api/pandas.read_csv.html\">Clique Aqui</a> para saber mais!"
   ]
  },
  {
   "cell_type": "markdown",
   "metadata": {
    "colab_type": "text",
    "id": "tL7l4RhU0U91"
   },
   "source": [
    "pd.read_csv(```file_path_buffer```, ```delimiter```)"
   ]
  },
  {
   "cell_type": "markdown",
   "metadata": {
    "colab_type": "text",
    "id": "mgQAwLro0U91"
   },
   "source": [
    "* ```filepath_or_buffer```: Caminho do arquivo. Pode ser também um link da internet (github, kaggle)\n",
    "* ```delimiter```: Pode ser ',' ';', entre outros."
   ]
  },
  {
   "cell_type": "markdown",
   "metadata": {},
   "source": [
    "### Abrindo uma planilha excel."
   ]
  },
  {
   "cell_type": "code",
   "execution_count": 3,
   "metadata": {},
   "outputs": [
    {
     "data": {
      "text/html": [
       "<div>\n",
       "<style scoped>\n",
       "    .dataframe tbody tr th:only-of-type {\n",
       "        vertical-align: middle;\n",
       "    }\n",
       "\n",
       "    .dataframe tbody tr th {\n",
       "        vertical-align: top;\n",
       "    }\n",
       "\n",
       "    .dataframe thead th {\n",
       "        text-align: right;\n",
       "    }\n",
       "</style>\n",
       "<table border=\"1\" class=\"dataframe\">\n",
       "  <thead>\n",
       "    <tr style=\"text-align: right;\">\n",
       "      <th></th>\n",
       "      <th>index</th>\n",
       "      <th>estado</th>\n",
       "      <th>cidade</th>\n",
       "      <th>temperatura</th>\n",
       "      <th>velocidadevento</th>\n",
       "      <th>umidadedoar</th>\n",
       "    </tr>\n",
       "  </thead>\n",
       "  <tbody>\n",
       "    <tr>\n",
       "      <th>0</th>\n",
       "      <td>1</td>\n",
       "      <td>RJ</td>\n",
       "      <td>RIO DE JANEIRO</td>\n",
       "      <td>36</td>\n",
       "      <td>6</td>\n",
       "      <td>69</td>\n",
       "    </tr>\n",
       "    <tr>\n",
       "      <th>1</th>\n",
       "      <td>2</td>\n",
       "      <td>RJ</td>\n",
       "      <td>RIO DE JANEIRO</td>\n",
       "      <td>34</td>\n",
       "      <td>7</td>\n",
       "      <td>63</td>\n",
       "    </tr>\n",
       "    <tr>\n",
       "      <th>2</th>\n",
       "      <td>3</td>\n",
       "      <td>RJ</td>\n",
       "      <td>RIO DE JANEIRO</td>\n",
       "      <td>36</td>\n",
       "      <td>10</td>\n",
       "      <td>63</td>\n",
       "    </tr>\n",
       "    <tr>\n",
       "      <th>3</th>\n",
       "      <td>4</td>\n",
       "      <td>RJ</td>\n",
       "      <td>RIO DE JANEIRO</td>\n",
       "      <td>32</td>\n",
       "      <td>15</td>\n",
       "      <td>68</td>\n",
       "    </tr>\n",
       "    <tr>\n",
       "      <th>4</th>\n",
       "      <td>5</td>\n",
       "      <td>RJ</td>\n",
       "      <td>RIO DE JANEIRO</td>\n",
       "      <td>38</td>\n",
       "      <td>13</td>\n",
       "      <td>69</td>\n",
       "    </tr>\n",
       "  </tbody>\n",
       "</table>\n",
       "</div>"
      ],
      "text/plain": [
       "   index estado          cidade  temperatura  velocidadevento  umidadedoar\n",
       "0      1     RJ  RIO DE JANEIRO           36                6           69\n",
       "1      2     RJ  RIO DE JANEIRO           34                7           63\n",
       "2      3     RJ  RIO DE JANEIRO           36               10           63\n",
       "3      4     RJ  RIO DE JANEIRO           32               15           68\n",
       "4      5     RJ  RIO DE JANEIRO           38               13           69"
      ]
     },
     "execution_count": 3,
     "metadata": {},
     "output_type": "execute_result"
    }
   ],
   "source": [
    "base = pd.read_excel('sample.xlsx', sheet_name='Plan1')\n",
    "base.head()"
   ]
  },
  {
   "cell_type": "code",
   "execution_count": 4,
   "metadata": {},
   "outputs": [
    {
     "data": {
      "text/html": [
       "<div>\n",
       "<style scoped>\n",
       "    .dataframe tbody tr th:only-of-type {\n",
       "        vertical-align: middle;\n",
       "    }\n",
       "\n",
       "    .dataframe tbody tr th {\n",
       "        vertical-align: top;\n",
       "    }\n",
       "\n",
       "    .dataframe thead th {\n",
       "        text-align: right;\n",
       "    }\n",
       "</style>\n",
       "<table border=\"1\" class=\"dataframe\">\n",
       "  <thead>\n",
       "    <tr style=\"text-align: right;\">\n",
       "      <th></th>\n",
       "      <th>index</th>\n",
       "      <th>estado</th>\n",
       "      <th>cidade</th>\n",
       "      <th>temperatura</th>\n",
       "      <th>velocidadevento</th>\n",
       "      <th>umidadedoar</th>\n",
       "    </tr>\n",
       "  </thead>\n",
       "  <tbody>\n",
       "    <tr>\n",
       "      <th>0</th>\n",
       "      <td>1</td>\n",
       "      <td>SP</td>\n",
       "      <td>SÃO PAULO</td>\n",
       "      <td>34</td>\n",
       "      <td>13</td>\n",
       "      <td>61</td>\n",
       "    </tr>\n",
       "    <tr>\n",
       "      <th>1</th>\n",
       "      <td>2</td>\n",
       "      <td>SP</td>\n",
       "      <td>SÃO PAULO</td>\n",
       "      <td>35</td>\n",
       "      <td>7</td>\n",
       "      <td>63</td>\n",
       "    </tr>\n",
       "    <tr>\n",
       "      <th>2</th>\n",
       "      <td>3</td>\n",
       "      <td>SP</td>\n",
       "      <td>SÃO PAULO</td>\n",
       "      <td>34</td>\n",
       "      <td>14</td>\n",
       "      <td>63</td>\n",
       "    </tr>\n",
       "    <tr>\n",
       "      <th>3</th>\n",
       "      <td>4</td>\n",
       "      <td>SP</td>\n",
       "      <td>SÃO PAULO</td>\n",
       "      <td>35</td>\n",
       "      <td>7</td>\n",
       "      <td>68</td>\n",
       "    </tr>\n",
       "    <tr>\n",
       "      <th>4</th>\n",
       "      <td>5</td>\n",
       "      <td>SP</td>\n",
       "      <td>SÃO PAULO</td>\n",
       "      <td>32</td>\n",
       "      <td>13</td>\n",
       "      <td>62</td>\n",
       "    </tr>\n",
       "  </tbody>\n",
       "</table>\n",
       "</div>"
      ],
      "text/plain": [
       "   index estado     cidade  temperatura  velocidadevento  umidadedoar\n",
       "0      1     SP  SÃO PAULO           34               13           61\n",
       "1      2     SP  SÃO PAULO           35                7           63\n",
       "2      3     SP  SÃO PAULO           34               14           63\n",
       "3      4     SP  SÃO PAULO           35                7           68\n",
       "4      5     SP  SÃO PAULO           32               13           62"
      ]
     },
     "execution_count": 4,
     "metadata": {},
     "output_type": "execute_result"
    }
   ],
   "source": [
    "base = pd.read_excel('sample.xlsx', sheet_name='Plan2')\n",
    "base.head()"
   ]
  },
  {
   "cell_type": "code",
   "execution_count": 5,
   "metadata": {},
   "outputs": [],
   "source": [
    "base = pd.read_excel('sample.xlsx', sheet_name=['Plan1','Plan2'])"
   ]
  },
  {
   "cell_type": "code",
   "execution_count": 6,
   "metadata": {},
   "outputs": [
    {
     "name": "stdout",
     "output_type": "stream",
     "text": [
      "<class 'dict'>\n"
     ]
    }
   ],
   "source": [
    "print(type(base))"
   ]
  },
  {
   "cell_type": "code",
   "execution_count": 7,
   "metadata": {},
   "outputs": [
    {
     "name": "stdout",
     "output_type": "stream",
     "text": [
      "{'Plan1':     index estado          cidade  temperatura  velocidadevento  umidadedoar\n",
      "0       1     RJ  RIO DE JANEIRO           36                6           69\n",
      "1       2     RJ  RIO DE JANEIRO           34                7           63\n",
      "2       3     RJ  RIO DE JANEIRO           36               10           63\n",
      "3       4     RJ  RIO DE JANEIRO           32               15           68\n",
      "4       5     RJ  RIO DE JANEIRO           38               13           69\n",
      "5       6     RJ  RIO DE JANEIRO           33                6           69\n",
      "6       7     RJ  RIO DE JANEIRO           39               11           67\n",
      "7       8     RJ  RIO DE JANEIRO           34               13           68\n",
      "8       9     RJ  RIO DE JANEIRO           31               11           65\n",
      "9      10     RJ         NITEROI           33               12           69\n",
      "10     11     RJ         NITEROI           32               15           62\n",
      "11     12     RJ         NITEROI           34               10           68\n",
      "12     13     RJ         NITEROI           30               10           66\n",
      "13     14     RJ         NITEROI           31                5           63\n",
      "14     15     RJ         NITEROI           33               11           62\n",
      "15     16     RJ         NITEROI           31               12           67\n",
      "16     17     RJ  ANGRA DOS REIS           38               10           65\n",
      "17     18     RJ  ANGRA DOS REIS           37               14           68\n",
      "18     19     RJ  ANGRA DOS REIS           31               14           65\n",
      "19     20     RJ  ANGRA DOS REIS           38               15           62, 'Plan2':     index estado     cidade  temperatura  velocidadevento  umidadedoar\n",
      "0       1     SP  SÃO PAULO           34               13           61\n",
      "1       2     SP  SÃO PAULO           35                7           63\n",
      "2       3     SP  SÃO PAULO           34               14           63\n",
      "3       4     SP  SÃO PAULO           35                7           68\n",
      "4       5     SP  SÃO PAULO           32               13           62\n",
      "5       6     SP  SÃO PAULO           32               12           67\n",
      "6       7     SP  SÃO PAULO           39               13           62\n",
      "7       8     SP      BAURU           36                6           66\n",
      "8       9     SP      BAURU           31               15           61\n",
      "9      10     SP      BAURU           39                6           67\n",
      "10     11     SP      BAURU           33               11           68\n",
      "11     12     SP      BAURU           36                7           69\n",
      "12     13     SP      BAURU           36               16           61\n",
      "13     14     SP      BAURU           30               14           63\n",
      "14     15     SP    UBATUBA           34               12           63\n",
      "15     16     SP    UBATUBA           30                6           65\n",
      "16     17     SP    UBATUBA           37               11           69\n",
      "17     18     SP    UBATUBA           30                7           65\n",
      "18     19     SP    UBATUBA           33               15           67\n",
      "19     20     SP    UBATUBA           38                5           69}\n"
     ]
    }
   ],
   "source": [
    "print(base)"
   ]
  },
  {
   "cell_type": "code",
   "execution_count": 8,
   "metadata": {},
   "outputs": [],
   "source": [
    "base_rj = pd.DataFrame(base['Plan1'])\n",
    "base_sp = pd.DataFrame(base['Plan2'])"
   ]
  },
  {
   "cell_type": "code",
   "execution_count": 9,
   "metadata": {},
   "outputs": [
    {
     "data": {
      "text/html": [
       "<div>\n",
       "<style scoped>\n",
       "    .dataframe tbody tr th:only-of-type {\n",
       "        vertical-align: middle;\n",
       "    }\n",
       "\n",
       "    .dataframe tbody tr th {\n",
       "        vertical-align: top;\n",
       "    }\n",
       "\n",
       "    .dataframe thead th {\n",
       "        text-align: right;\n",
       "    }\n",
       "</style>\n",
       "<table border=\"1\" class=\"dataframe\">\n",
       "  <thead>\n",
       "    <tr style=\"text-align: right;\">\n",
       "      <th></th>\n",
       "      <th>index</th>\n",
       "      <th>estado</th>\n",
       "      <th>cidade</th>\n",
       "      <th>temperatura</th>\n",
       "      <th>velocidadevento</th>\n",
       "      <th>umidadedoar</th>\n",
       "    </tr>\n",
       "  </thead>\n",
       "  <tbody>\n",
       "    <tr>\n",
       "      <th>0</th>\n",
       "      <td>1</td>\n",
       "      <td>RJ</td>\n",
       "      <td>RIO DE JANEIRO</td>\n",
       "      <td>36</td>\n",
       "      <td>6</td>\n",
       "      <td>69</td>\n",
       "    </tr>\n",
       "    <tr>\n",
       "      <th>1</th>\n",
       "      <td>2</td>\n",
       "      <td>RJ</td>\n",
       "      <td>RIO DE JANEIRO</td>\n",
       "      <td>34</td>\n",
       "      <td>7</td>\n",
       "      <td>63</td>\n",
       "    </tr>\n",
       "  </tbody>\n",
       "</table>\n",
       "</div>"
      ],
      "text/plain": [
       "   index estado          cidade  temperatura  velocidadevento  umidadedoar\n",
       "0      1     RJ  RIO DE JANEIRO           36                6           69\n",
       "1      2     RJ  RIO DE JANEIRO           34                7           63"
      ]
     },
     "execution_count": 9,
     "metadata": {},
     "output_type": "execute_result"
    }
   ],
   "source": [
    "base_rj.head(2)"
   ]
  },
  {
   "cell_type": "code",
   "execution_count": 10,
   "metadata": {},
   "outputs": [
    {
     "data": {
      "text/html": [
       "<div>\n",
       "<style scoped>\n",
       "    .dataframe tbody tr th:only-of-type {\n",
       "        vertical-align: middle;\n",
       "    }\n",
       "\n",
       "    .dataframe tbody tr th {\n",
       "        vertical-align: top;\n",
       "    }\n",
       "\n",
       "    .dataframe thead th {\n",
       "        text-align: right;\n",
       "    }\n",
       "</style>\n",
       "<table border=\"1\" class=\"dataframe\">\n",
       "  <thead>\n",
       "    <tr style=\"text-align: right;\">\n",
       "      <th></th>\n",
       "      <th>index</th>\n",
       "      <th>estado</th>\n",
       "      <th>cidade</th>\n",
       "      <th>temperatura</th>\n",
       "      <th>velocidadevento</th>\n",
       "      <th>umidadedoar</th>\n",
       "    </tr>\n",
       "  </thead>\n",
       "  <tbody>\n",
       "    <tr>\n",
       "      <th>0</th>\n",
       "      <td>1</td>\n",
       "      <td>SP</td>\n",
       "      <td>SÃO PAULO</td>\n",
       "      <td>34</td>\n",
       "      <td>13</td>\n",
       "      <td>61</td>\n",
       "    </tr>\n",
       "    <tr>\n",
       "      <th>1</th>\n",
       "      <td>2</td>\n",
       "      <td>SP</td>\n",
       "      <td>SÃO PAULO</td>\n",
       "      <td>35</td>\n",
       "      <td>7</td>\n",
       "      <td>63</td>\n",
       "    </tr>\n",
       "  </tbody>\n",
       "</table>\n",
       "</div>"
      ],
      "text/plain": [
       "   index estado     cidade  temperatura  velocidadevento  umidadedoar\n",
       "0      1     SP  SÃO PAULO           34               13           61\n",
       "1      2     SP  SÃO PAULO           35                7           63"
      ]
     },
     "execution_count": 10,
     "metadata": {},
     "output_type": "execute_result"
    }
   ],
   "source": [
    "base_sp.head(2)"
   ]
  },
  {
   "cell_type": "markdown",
   "metadata": {
    "colab_type": "text",
    "id": "TWT8nHP70U-M"
   },
   "source": [
    "## Acessando dados - Diabetes Pima\n",
    "---\n",
    "Site de referencia: https://www.kaggle.com/uciml/pima-indians-diabetes-database"
   ]
  },
  {
   "cell_type": "code",
   "execution_count": 13,
   "metadata": {},
   "outputs": [],
   "source": [
    "## Entrada de dados:\n",
    "df = pd.read_csv('diabetes.csv', delimiter = \",\")\n",
    "# OU \n",
    "# df = pd.read_csv('diabetes.csv', sep = \",\")"
   ]
  },
  {
   "cell_type": "code",
   "execution_count": 14,
   "metadata": {},
   "outputs": [
    {
     "data": {
      "text/html": [
       "<div>\n",
       "<style scoped>\n",
       "    .dataframe tbody tr th:only-of-type {\n",
       "        vertical-align: middle;\n",
       "    }\n",
       "\n",
       "    .dataframe tbody tr th {\n",
       "        vertical-align: top;\n",
       "    }\n",
       "\n",
       "    .dataframe thead th {\n",
       "        text-align: right;\n",
       "    }\n",
       "</style>\n",
       "<table border=\"1\" class=\"dataframe\">\n",
       "  <thead>\n",
       "    <tr style=\"text-align: right;\">\n",
       "      <th></th>\n",
       "      <th>Pregnancies</th>\n",
       "      <th>Glucose</th>\n",
       "      <th>BloodPressure</th>\n",
       "      <th>SkinThickness</th>\n",
       "      <th>Insulin</th>\n",
       "      <th>BMI</th>\n",
       "      <th>DiabetesPedigreeFunction</th>\n",
       "      <th>Age</th>\n",
       "      <th>Outcome</th>\n",
       "    </tr>\n",
       "  </thead>\n",
       "  <tbody>\n",
       "    <tr>\n",
       "      <th>0</th>\n",
       "      <td>6</td>\n",
       "      <td>148</td>\n",
       "      <td>72</td>\n",
       "      <td>35</td>\n",
       "      <td>0</td>\n",
       "      <td>33.6</td>\n",
       "      <td>0.627</td>\n",
       "      <td>50</td>\n",
       "      <td>1</td>\n",
       "    </tr>\n",
       "    <tr>\n",
       "      <th>1</th>\n",
       "      <td>1</td>\n",
       "      <td>85</td>\n",
       "      <td>66</td>\n",
       "      <td>29</td>\n",
       "      <td>0</td>\n",
       "      <td>26.6</td>\n",
       "      <td>0.351</td>\n",
       "      <td>31</td>\n",
       "      <td>0</td>\n",
       "    </tr>\n",
       "    <tr>\n",
       "      <th>2</th>\n",
       "      <td>8</td>\n",
       "      <td>183</td>\n",
       "      <td>64</td>\n",
       "      <td>0</td>\n",
       "      <td>0</td>\n",
       "      <td>23.3</td>\n",
       "      <td>0.672</td>\n",
       "      <td>32</td>\n",
       "      <td>1</td>\n",
       "    </tr>\n",
       "    <tr>\n",
       "      <th>3</th>\n",
       "      <td>1</td>\n",
       "      <td>89</td>\n",
       "      <td>66</td>\n",
       "      <td>23</td>\n",
       "      <td>94</td>\n",
       "      <td>28.1</td>\n",
       "      <td>0.167</td>\n",
       "      <td>21</td>\n",
       "      <td>0</td>\n",
       "    </tr>\n",
       "    <tr>\n",
       "      <th>4</th>\n",
       "      <td>0</td>\n",
       "      <td>137</td>\n",
       "      <td>40</td>\n",
       "      <td>35</td>\n",
       "      <td>168</td>\n",
       "      <td>43.1</td>\n",
       "      <td>2.288</td>\n",
       "      <td>33</td>\n",
       "      <td>1</td>\n",
       "    </tr>\n",
       "  </tbody>\n",
       "</table>\n",
       "</div>"
      ],
      "text/plain": [
       "   Pregnancies  Glucose  BloodPressure  SkinThickness  Insulin   BMI  \\\n",
       "0            6      148             72             35        0  33.6   \n",
       "1            1       85             66             29        0  26.6   \n",
       "2            8      183             64              0        0  23.3   \n",
       "3            1       89             66             23       94  28.1   \n",
       "4            0      137             40             35      168  43.1   \n",
       "\n",
       "   DiabetesPedigreeFunction  Age  Outcome  \n",
       "0                     0.627   50        1  \n",
       "1                     0.351   31        0  \n",
       "2                     0.672   32        1  \n",
       "3                     0.167   21        0  \n",
       "4                     2.288   33        1  "
      ]
     },
     "execution_count": 14,
     "metadata": {},
     "output_type": "execute_result"
    }
   ],
   "source": [
    "df.head()"
   ]
  },
  {
   "cell_type": "code",
   "execution_count": 15,
   "metadata": {},
   "outputs": [],
   "source": [
    "## Renomeando as colunas:\n",
    "df.columns = ['qtd_gravidez','glicose','pressao_sanguinea','espessura_da_pele',\n",
    "              'insulina','imc','diabetes_funcao_pedigree','idade','resultado']"
   ]
  },
  {
   "cell_type": "code",
   "execution_count": 16,
   "metadata": {},
   "outputs": [
    {
     "data": {
      "text/html": [
       "<div>\n",
       "<style scoped>\n",
       "    .dataframe tbody tr th:only-of-type {\n",
       "        vertical-align: middle;\n",
       "    }\n",
       "\n",
       "    .dataframe tbody tr th {\n",
       "        vertical-align: top;\n",
       "    }\n",
       "\n",
       "    .dataframe thead th {\n",
       "        text-align: right;\n",
       "    }\n",
       "</style>\n",
       "<table border=\"1\" class=\"dataframe\">\n",
       "  <thead>\n",
       "    <tr style=\"text-align: right;\">\n",
       "      <th></th>\n",
       "      <th>qtd_gravidez</th>\n",
       "      <th>glicose</th>\n",
       "      <th>pressao_sanguinea</th>\n",
       "      <th>espessura_da_pele</th>\n",
       "      <th>insulina</th>\n",
       "      <th>imc</th>\n",
       "      <th>diabetes_funcao_pedigree</th>\n",
       "      <th>idade</th>\n",
       "      <th>resultado</th>\n",
       "    </tr>\n",
       "  </thead>\n",
       "  <tbody>\n",
       "    <tr>\n",
       "      <th>0</th>\n",
       "      <td>6</td>\n",
       "      <td>148</td>\n",
       "      <td>72</td>\n",
       "      <td>35</td>\n",
       "      <td>0</td>\n",
       "      <td>33.6</td>\n",
       "      <td>0.627</td>\n",
       "      <td>50</td>\n",
       "      <td>1</td>\n",
       "    </tr>\n",
       "    <tr>\n",
       "      <th>1</th>\n",
       "      <td>1</td>\n",
       "      <td>85</td>\n",
       "      <td>66</td>\n",
       "      <td>29</td>\n",
       "      <td>0</td>\n",
       "      <td>26.6</td>\n",
       "      <td>0.351</td>\n",
       "      <td>31</td>\n",
       "      <td>0</td>\n",
       "    </tr>\n",
       "    <tr>\n",
       "      <th>2</th>\n",
       "      <td>8</td>\n",
       "      <td>183</td>\n",
       "      <td>64</td>\n",
       "      <td>0</td>\n",
       "      <td>0</td>\n",
       "      <td>23.3</td>\n",
       "      <td>0.672</td>\n",
       "      <td>32</td>\n",
       "      <td>1</td>\n",
       "    </tr>\n",
       "    <tr>\n",
       "      <th>3</th>\n",
       "      <td>1</td>\n",
       "      <td>89</td>\n",
       "      <td>66</td>\n",
       "      <td>23</td>\n",
       "      <td>94</td>\n",
       "      <td>28.1</td>\n",
       "      <td>0.167</td>\n",
       "      <td>21</td>\n",
       "      <td>0</td>\n",
       "    </tr>\n",
       "    <tr>\n",
       "      <th>4</th>\n",
       "      <td>0</td>\n",
       "      <td>137</td>\n",
       "      <td>40</td>\n",
       "      <td>35</td>\n",
       "      <td>168</td>\n",
       "      <td>43.1</td>\n",
       "      <td>2.288</td>\n",
       "      <td>33</td>\n",
       "      <td>1</td>\n",
       "    </tr>\n",
       "  </tbody>\n",
       "</table>\n",
       "</div>"
      ],
      "text/plain": [
       "   qtd_gravidez  glicose  pressao_sanguinea  espessura_da_pele  insulina  \\\n",
       "0             6      148                 72                 35         0   \n",
       "1             1       85                 66                 29         0   \n",
       "2             8      183                 64                  0         0   \n",
       "3             1       89                 66                 23        94   \n",
       "4             0      137                 40                 35       168   \n",
       "\n",
       "    imc  diabetes_funcao_pedigree  idade  resultado  \n",
       "0  33.6                     0.627     50          1  \n",
       "1  26.6                     0.351     31          0  \n",
       "2  23.3                     0.672     32          1  \n",
       "3  28.1                     0.167     21          0  \n",
       "4  43.1                     2.288     33          1  "
      ]
     },
     "execution_count": 16,
     "metadata": {},
     "output_type": "execute_result"
    }
   ],
   "source": [
    "## Conhecendo as primeiras linhas\n",
    "df.head()"
   ]
  },
  {
   "cell_type": "code",
   "execution_count": 17,
   "metadata": {
    "colab": {},
    "colab_type": "code",
    "id": "RnK5mm120U-M",
    "outputId": "b0d73065-b93a-41be-f142-0eafc46f1571"
   },
   "outputs": [
    {
     "name": "stdout",
     "output_type": "stream",
     "text": [
      "<class 'pandas.core.frame.DataFrame'>\n",
      "RangeIndex: 768 entries, 0 to 767\n",
      "Data columns (total 9 columns):\n",
      " #   Column                    Non-Null Count  Dtype  \n",
      "---  ------                    --------------  -----  \n",
      " 0   qtd_gravidez              768 non-null    int64  \n",
      " 1   glicose                   768 non-null    int64  \n",
      " 2   pressao_sanguinea         768 non-null    int64  \n",
      " 3   espessura_da_pele         768 non-null    int64  \n",
      " 4   insulina                  768 non-null    int64  \n",
      " 5   imc                       768 non-null    float64\n",
      " 6   diabetes_funcao_pedigree  768 non-null    float64\n",
      " 7   idade                     768 non-null    int64  \n",
      " 8   resultado                 768 non-null    int64  \n",
      "dtypes: float64(2), int64(7)\n",
      "memory usage: 54.1 KB\n"
     ]
    }
   ],
   "source": [
    "## Conhecendo a base\n",
    "df.info()"
   ]
  },
  {
   "cell_type": "code",
   "execution_count": 18,
   "metadata": {},
   "outputs": [
    {
     "data": {
      "text/html": [
       "<div>\n",
       "<style scoped>\n",
       "    .dataframe tbody tr th:only-of-type {\n",
       "        vertical-align: middle;\n",
       "    }\n",
       "\n",
       "    .dataframe tbody tr th {\n",
       "        vertical-align: top;\n",
       "    }\n",
       "\n",
       "    .dataframe thead th {\n",
       "        text-align: right;\n",
       "    }\n",
       "</style>\n",
       "<table border=\"1\" class=\"dataframe\">\n",
       "  <thead>\n",
       "    <tr style=\"text-align: right;\">\n",
       "      <th></th>\n",
       "      <th>qtd_gravidez</th>\n",
       "      <th>glicose</th>\n",
       "      <th>pressao_sanguinea</th>\n",
       "      <th>espessura_da_pele</th>\n",
       "      <th>insulina</th>\n",
       "      <th>imc</th>\n",
       "      <th>diabetes_funcao_pedigree</th>\n",
       "      <th>idade</th>\n",
       "      <th>resultado</th>\n",
       "    </tr>\n",
       "  </thead>\n",
       "  <tbody>\n",
       "    <tr>\n",
       "      <th>count</th>\n",
       "      <td>768.000000</td>\n",
       "      <td>768.000000</td>\n",
       "      <td>768.000000</td>\n",
       "      <td>768.000000</td>\n",
       "      <td>768.000000</td>\n",
       "      <td>768.000000</td>\n",
       "      <td>768.000000</td>\n",
       "      <td>768.000000</td>\n",
       "      <td>768.000000</td>\n",
       "    </tr>\n",
       "    <tr>\n",
       "      <th>mean</th>\n",
       "      <td>3.845052</td>\n",
       "      <td>120.894531</td>\n",
       "      <td>69.105469</td>\n",
       "      <td>20.536458</td>\n",
       "      <td>79.799479</td>\n",
       "      <td>31.992578</td>\n",
       "      <td>0.471876</td>\n",
       "      <td>33.240885</td>\n",
       "      <td>0.348958</td>\n",
       "    </tr>\n",
       "    <tr>\n",
       "      <th>std</th>\n",
       "      <td>3.369578</td>\n",
       "      <td>31.972618</td>\n",
       "      <td>19.355807</td>\n",
       "      <td>15.952218</td>\n",
       "      <td>115.244002</td>\n",
       "      <td>7.884160</td>\n",
       "      <td>0.331329</td>\n",
       "      <td>11.760232</td>\n",
       "      <td>0.476951</td>\n",
       "    </tr>\n",
       "    <tr>\n",
       "      <th>min</th>\n",
       "      <td>0.000000</td>\n",
       "      <td>0.000000</td>\n",
       "      <td>0.000000</td>\n",
       "      <td>0.000000</td>\n",
       "      <td>0.000000</td>\n",
       "      <td>0.000000</td>\n",
       "      <td>0.078000</td>\n",
       "      <td>21.000000</td>\n",
       "      <td>0.000000</td>\n",
       "    </tr>\n",
       "    <tr>\n",
       "      <th>25%</th>\n",
       "      <td>1.000000</td>\n",
       "      <td>99.000000</td>\n",
       "      <td>62.000000</td>\n",
       "      <td>0.000000</td>\n",
       "      <td>0.000000</td>\n",
       "      <td>27.300000</td>\n",
       "      <td>0.243750</td>\n",
       "      <td>24.000000</td>\n",
       "      <td>0.000000</td>\n",
       "    </tr>\n",
       "    <tr>\n",
       "      <th>50%</th>\n",
       "      <td>3.000000</td>\n",
       "      <td>117.000000</td>\n",
       "      <td>72.000000</td>\n",
       "      <td>23.000000</td>\n",
       "      <td>30.500000</td>\n",
       "      <td>32.000000</td>\n",
       "      <td>0.372500</td>\n",
       "      <td>29.000000</td>\n",
       "      <td>0.000000</td>\n",
       "    </tr>\n",
       "    <tr>\n",
       "      <th>75%</th>\n",
       "      <td>6.000000</td>\n",
       "      <td>140.250000</td>\n",
       "      <td>80.000000</td>\n",
       "      <td>32.000000</td>\n",
       "      <td>127.250000</td>\n",
       "      <td>36.600000</td>\n",
       "      <td>0.626250</td>\n",
       "      <td>41.000000</td>\n",
       "      <td>1.000000</td>\n",
       "    </tr>\n",
       "    <tr>\n",
       "      <th>max</th>\n",
       "      <td>17.000000</td>\n",
       "      <td>199.000000</td>\n",
       "      <td>122.000000</td>\n",
       "      <td>99.000000</td>\n",
       "      <td>846.000000</td>\n",
       "      <td>67.100000</td>\n",
       "      <td>2.420000</td>\n",
       "      <td>81.000000</td>\n",
       "      <td>1.000000</td>\n",
       "    </tr>\n",
       "  </tbody>\n",
       "</table>\n",
       "</div>"
      ],
      "text/plain": [
       "       qtd_gravidez     glicose  pressao_sanguinea  espessura_da_pele  \\\n",
       "count    768.000000  768.000000         768.000000         768.000000   \n",
       "mean       3.845052  120.894531          69.105469          20.536458   \n",
       "std        3.369578   31.972618          19.355807          15.952218   \n",
       "min        0.000000    0.000000           0.000000           0.000000   \n",
       "25%        1.000000   99.000000          62.000000           0.000000   \n",
       "50%        3.000000  117.000000          72.000000          23.000000   \n",
       "75%        6.000000  140.250000          80.000000          32.000000   \n",
       "max       17.000000  199.000000         122.000000          99.000000   \n",
       "\n",
       "         insulina         imc  diabetes_funcao_pedigree       idade  \\\n",
       "count  768.000000  768.000000                768.000000  768.000000   \n",
       "mean    79.799479   31.992578                  0.471876   33.240885   \n",
       "std    115.244002    7.884160                  0.331329   11.760232   \n",
       "min      0.000000    0.000000                  0.078000   21.000000   \n",
       "25%      0.000000   27.300000                  0.243750   24.000000   \n",
       "50%     30.500000   32.000000                  0.372500   29.000000   \n",
       "75%    127.250000   36.600000                  0.626250   41.000000   \n",
       "max    846.000000   67.100000                  2.420000   81.000000   \n",
       "\n",
       "        resultado  \n",
       "count  768.000000  \n",
       "mean     0.348958  \n",
       "std      0.476951  \n",
       "min      0.000000  \n",
       "25%      0.000000  \n",
       "50%      0.000000  \n",
       "75%      1.000000  \n",
       "max      1.000000  "
      ]
     },
     "execution_count": 18,
     "metadata": {},
     "output_type": "execute_result"
    }
   ],
   "source": [
    "df.describe()"
   ]
  },
  {
   "cell_type": "code",
   "execution_count": 37,
   "metadata": {},
   "outputs": [
    {
     "data": {
      "text/plain": [
       "35"
      ]
     },
     "execution_count": 37,
     "metadata": {},
     "output_type": "execute_result"
    }
   ],
   "source": [
    "# Quantidade de pessoas com pressão sanguinea igual a zero\n",
    "len(df[df.pressao_sanguinea == 0])"
   ]
  },
  {
   "cell_type": "code",
   "execution_count": 38,
   "metadata": {},
   "outputs": [
    {
     "data": {
      "text/plain": [
       "6.613526570048309"
      ]
     },
     "execution_count": 38,
     "metadata": {},
     "output_type": "execute_result"
    }
   ],
   "source": [
    "# Media da quantidade de gravidez de pessoas acima de 40 anos\n",
    "df.qtd_gravidez[df.idade >= 40].mean()\n"
   ]
  },
  {
   "cell_type": "code",
   "execution_count": 40,
   "metadata": {},
   "outputs": [],
   "source": [
    "base2 = df.drop(\"resultado\", axis = 1)"
   ]
  },
  {
   "cell_type": "code",
   "execution_count": 41,
   "metadata": {},
   "outputs": [
    {
     "data": {
      "text/html": [
       "<div>\n",
       "<style scoped>\n",
       "    .dataframe tbody tr th:only-of-type {\n",
       "        vertical-align: middle;\n",
       "    }\n",
       "\n",
       "    .dataframe tbody tr th {\n",
       "        vertical-align: top;\n",
       "    }\n",
       "\n",
       "    .dataframe thead th {\n",
       "        text-align: right;\n",
       "    }\n",
       "</style>\n",
       "<table border=\"1\" class=\"dataframe\">\n",
       "  <thead>\n",
       "    <tr style=\"text-align: right;\">\n",
       "      <th></th>\n",
       "      <th>qtd_gravidez</th>\n",
       "      <th>glicose</th>\n",
       "      <th>pressao_sanguinea</th>\n",
       "      <th>espessura_da_pele</th>\n",
       "      <th>insulina</th>\n",
       "      <th>imc</th>\n",
       "      <th>diabetes_funcao_pedigree</th>\n",
       "      <th>idade</th>\n",
       "    </tr>\n",
       "  </thead>\n",
       "  <tbody>\n",
       "    <tr>\n",
       "      <th>0</th>\n",
       "      <td>6</td>\n",
       "      <td>148</td>\n",
       "      <td>72</td>\n",
       "      <td>35</td>\n",
       "      <td>0</td>\n",
       "      <td>33.6</td>\n",
       "      <td>0.627</td>\n",
       "      <td>50</td>\n",
       "    </tr>\n",
       "    <tr>\n",
       "      <th>1</th>\n",
       "      <td>1</td>\n",
       "      <td>85</td>\n",
       "      <td>66</td>\n",
       "      <td>29</td>\n",
       "      <td>0</td>\n",
       "      <td>26.6</td>\n",
       "      <td>0.351</td>\n",
       "      <td>31</td>\n",
       "    </tr>\n",
       "    <tr>\n",
       "      <th>2</th>\n",
       "      <td>8</td>\n",
       "      <td>183</td>\n",
       "      <td>64</td>\n",
       "      <td>0</td>\n",
       "      <td>0</td>\n",
       "      <td>23.3</td>\n",
       "      <td>0.672</td>\n",
       "      <td>32</td>\n",
       "    </tr>\n",
       "    <tr>\n",
       "      <th>3</th>\n",
       "      <td>1</td>\n",
       "      <td>89</td>\n",
       "      <td>66</td>\n",
       "      <td>23</td>\n",
       "      <td>94</td>\n",
       "      <td>28.1</td>\n",
       "      <td>0.167</td>\n",
       "      <td>21</td>\n",
       "    </tr>\n",
       "    <tr>\n",
       "      <th>4</th>\n",
       "      <td>0</td>\n",
       "      <td>137</td>\n",
       "      <td>40</td>\n",
       "      <td>35</td>\n",
       "      <td>168</td>\n",
       "      <td>43.1</td>\n",
       "      <td>2.288</td>\n",
       "      <td>33</td>\n",
       "    </tr>\n",
       "  </tbody>\n",
       "</table>\n",
       "</div>"
      ],
      "text/plain": [
       "   qtd_gravidez  glicose  pressao_sanguinea  espessura_da_pele  insulina  \\\n",
       "0             6      148                 72                 35         0   \n",
       "1             1       85                 66                 29         0   \n",
       "2             8      183                 64                  0         0   \n",
       "3             1       89                 66                 23        94   \n",
       "4             0      137                 40                 35       168   \n",
       "\n",
       "    imc  diabetes_funcao_pedigree  idade  \n",
       "0  33.6                     0.627     50  \n",
       "1  26.6                     0.351     31  \n",
       "2  23.3                     0.672     32  \n",
       "3  28.1                     0.167     21  \n",
       "4  43.1                     2.288     33  "
      ]
     },
     "execution_count": 41,
     "metadata": {},
     "output_type": "execute_result"
    }
   ],
   "source": [
    "base2.head()"
   ]
  },
  {
   "cell_type": "code",
   "execution_count": null,
   "metadata": {},
   "outputs": [],
   "source": [
    "base2.to_excel()"
   ]
  },
  {
   "cell_type": "markdown",
   "metadata": {
    "colab_type": "text",
    "id": "miZeWTSb0U-R"
   },
   "source": [
    "Podemos acessar linhas e colunas simultaneamente por meio dos comandos ```.loc```"
   ]
  },
  {
   "cell_type": "markdown",
   "metadata": {},
   "source": [
    "#### Vamos revisitar o exercicio 4 da aula passada:\n",
    "---\n",
    "#### 4 - Qual é a média da glicose das paciêntes que tiveram mais de uma gravidez? e compare com a média geral do dataframe."
   ]
  },
  {
   "cell_type": "code",
   "execution_count": null,
   "metadata": {},
   "outputs": [],
   "source": [
    "print(\"Média da glicose das paciêntes que tiveram mais de uma gravidez é de\",\n",
    "      df.loc[:,'glicose'][df.loc[:,'qtd_gravidez'] > 1].mean())"
   ]
  },
  {
   "cell_type": "code",
   "execution_count": null,
   "metadata": {},
   "outputs": [],
   "source": [
    "print(\"Média da glicose das paciêntes que tiveram mais de uma gravidez é de\",\n",
    "      df.loc[df.loc[:,'qtd_gravidez'] > 1,'glicose'].mean())"
   ]
  },
  {
   "cell_type": "markdown",
   "metadata": {},
   "source": [
    "#### Vamos verificar o passo a passo da análise:"
   ]
  },
  {
   "cell_type": "code",
   "execution_count": null,
   "metadata": {},
   "outputs": [],
   "source": [
    "print(\"Primeiro Processo:\",df.loc[0]['glicose'])\n",
    "print(\"Segundo Processo:\",df.loc[0,'glicose'])"
   ]
  },
  {
   "cell_type": "code",
   "execution_count": null,
   "metadata": {
    "colab": {},
    "colab_type": "code",
    "id": "aWyzprsU0U-a",
    "outputId": "ab062381-6db2-4258-be8f-4878f3e97b62"
   },
   "outputs": [],
   "source": [
    "### Primeiro Processo:\n",
    "## Passo 0: Seleção do dataframe:\n",
    "display(df)\n",
    "\n",
    "## Passo 1: Seleção de variáveis(colunas):\n",
    "display(df.loc[:,'glicose'])\n",
    "\n",
    "## Passo 2: Seleção de linhas com condições(linhas de interesse):\n",
    "display(df.loc[:,'glicose'][df.loc[:,'qtd_gravidez']])\n",
    "\n",
    "## Passo 3: Inserir as condições(hipoteses!):\n",
    "display(df.loc[:,'glicose'][df.loc[:,'qtd_gravidez'] > 1])\n",
    "\n",
    "## Passo 4: Resumo ou calculo ou agregação(resultado do problema de análise de dados):\n",
    "display(df.loc[:,'glicose'][df.loc[:,'qtd_gravidez'] > 1].mean())"
   ]
  },
  {
   "cell_type": "code",
   "execution_count": null,
   "metadata": {},
   "outputs": [],
   "source": [
    "### Segundo Processo:"
   ]
  },
  {
   "cell_type": "markdown",
   "metadata": {
    "colab_type": "text",
    "id": "woBkId130U-c"
   },
   "source": [
    "## Ordenação\n",
    "---"
   ]
  },
  {
   "cell_type": "code",
   "execution_count": 39,
   "metadata": {
    "colab": {},
    "colab_type": "code",
    "id": "7fmdZ-xF0U-d",
    "outputId": "7c0bc1ba-3691-4735-fdd2-fa8f269a714e"
   },
   "outputs": [
    {
     "data": {
      "text/html": [
       "<div>\n",
       "<style scoped>\n",
       "    .dataframe tbody tr th:only-of-type {\n",
       "        vertical-align: middle;\n",
       "    }\n",
       "\n",
       "    .dataframe tbody tr th {\n",
       "        vertical-align: top;\n",
       "    }\n",
       "\n",
       "    .dataframe thead th {\n",
       "        text-align: right;\n",
       "    }\n",
       "</style>\n",
       "<table border=\"1\" class=\"dataframe\">\n",
       "  <thead>\n",
       "    <tr style=\"text-align: right;\">\n",
       "      <th></th>\n",
       "      <th>qtd_gravidez</th>\n",
       "      <th>glicose</th>\n",
       "      <th>pressao_sanguinea</th>\n",
       "      <th>espessura_da_pele</th>\n",
       "      <th>insulina</th>\n",
       "      <th>imc</th>\n",
       "      <th>diabetes_funcao_pedigree</th>\n",
       "      <th>idade</th>\n",
       "      <th>resultado</th>\n",
       "    </tr>\n",
       "  </thead>\n",
       "  <tbody>\n",
       "    <tr>\n",
       "      <th>347</th>\n",
       "      <td>3</td>\n",
       "      <td>116</td>\n",
       "      <td>0</td>\n",
       "      <td>0</td>\n",
       "      <td>0</td>\n",
       "      <td>23.5</td>\n",
       "      <td>0.187</td>\n",
       "      <td>23</td>\n",
       "      <td>0</td>\n",
       "    </tr>\n",
       "    <tr>\n",
       "      <th>494</th>\n",
       "      <td>3</td>\n",
       "      <td>80</td>\n",
       "      <td>0</td>\n",
       "      <td>0</td>\n",
       "      <td>0</td>\n",
       "      <td>0.0</td>\n",
       "      <td>0.174</td>\n",
       "      <td>22</td>\n",
       "      <td>0</td>\n",
       "    </tr>\n",
       "    <tr>\n",
       "      <th>222</th>\n",
       "      <td>7</td>\n",
       "      <td>119</td>\n",
       "      <td>0</td>\n",
       "      <td>0</td>\n",
       "      <td>0</td>\n",
       "      <td>25.2</td>\n",
       "      <td>0.209</td>\n",
       "      <td>37</td>\n",
       "      <td>0</td>\n",
       "    </tr>\n",
       "    <tr>\n",
       "      <th>81</th>\n",
       "      <td>2</td>\n",
       "      <td>74</td>\n",
       "      <td>0</td>\n",
       "      <td>0</td>\n",
       "      <td>0</td>\n",
       "      <td>0.0</td>\n",
       "      <td>0.102</td>\n",
       "      <td>22</td>\n",
       "      <td>0</td>\n",
       "    </tr>\n",
       "    <tr>\n",
       "      <th>78</th>\n",
       "      <td>0</td>\n",
       "      <td>131</td>\n",
       "      <td>0</td>\n",
       "      <td>0</td>\n",
       "      <td>0</td>\n",
       "      <td>43.2</td>\n",
       "      <td>0.270</td>\n",
       "      <td>26</td>\n",
       "      <td>1</td>\n",
       "    </tr>\n",
       "    <tr>\n",
       "      <th>...</th>\n",
       "      <td>...</td>\n",
       "      <td>...</td>\n",
       "      <td>...</td>\n",
       "      <td>...</td>\n",
       "      <td>...</td>\n",
       "      <td>...</td>\n",
       "      <td>...</td>\n",
       "      <td>...</td>\n",
       "      <td>...</td>\n",
       "    </tr>\n",
       "    <tr>\n",
       "      <th>549</th>\n",
       "      <td>4</td>\n",
       "      <td>189</td>\n",
       "      <td>110</td>\n",
       "      <td>31</td>\n",
       "      <td>0</td>\n",
       "      <td>28.5</td>\n",
       "      <td>0.680</td>\n",
       "      <td>37</td>\n",
       "      <td>0</td>\n",
       "    </tr>\n",
       "    <tr>\n",
       "      <th>43</th>\n",
       "      <td>9</td>\n",
       "      <td>171</td>\n",
       "      <td>110</td>\n",
       "      <td>24</td>\n",
       "      <td>240</td>\n",
       "      <td>45.4</td>\n",
       "      <td>0.721</td>\n",
       "      <td>54</td>\n",
       "      <td>1</td>\n",
       "    </tr>\n",
       "    <tr>\n",
       "      <th>177</th>\n",
       "      <td>0</td>\n",
       "      <td>129</td>\n",
       "      <td>110</td>\n",
       "      <td>46</td>\n",
       "      <td>130</td>\n",
       "      <td>67.1</td>\n",
       "      <td>0.319</td>\n",
       "      <td>26</td>\n",
       "      <td>1</td>\n",
       "    </tr>\n",
       "    <tr>\n",
       "      <th>691</th>\n",
       "      <td>13</td>\n",
       "      <td>158</td>\n",
       "      <td>114</td>\n",
       "      <td>0</td>\n",
       "      <td>0</td>\n",
       "      <td>42.3</td>\n",
       "      <td>0.257</td>\n",
       "      <td>44</td>\n",
       "      <td>1</td>\n",
       "    </tr>\n",
       "    <tr>\n",
       "      <th>106</th>\n",
       "      <td>1</td>\n",
       "      <td>96</td>\n",
       "      <td>122</td>\n",
       "      <td>0</td>\n",
       "      <td>0</td>\n",
       "      <td>22.4</td>\n",
       "      <td>0.207</td>\n",
       "      <td>27</td>\n",
       "      <td>0</td>\n",
       "    </tr>\n",
       "  </tbody>\n",
       "</table>\n",
       "<p>768 rows × 9 columns</p>\n",
       "</div>"
      ],
      "text/plain": [
       "     qtd_gravidez  glicose  pressao_sanguinea  espessura_da_pele  insulina  \\\n",
       "347             3      116                  0                  0         0   \n",
       "494             3       80                  0                  0         0   \n",
       "222             7      119                  0                  0         0   \n",
       "81              2       74                  0                  0         0   \n",
       "78              0      131                  0                  0         0   \n",
       "..            ...      ...                ...                ...       ...   \n",
       "549             4      189                110                 31         0   \n",
       "43              9      171                110                 24       240   \n",
       "177             0      129                110                 46       130   \n",
       "691            13      158                114                  0         0   \n",
       "106             1       96                122                  0         0   \n",
       "\n",
       "      imc  diabetes_funcao_pedigree  idade  resultado  \n",
       "347  23.5                     0.187     23          0  \n",
       "494   0.0                     0.174     22          0  \n",
       "222  25.2                     0.209     37          0  \n",
       "81    0.0                     0.102     22          0  \n",
       "78   43.2                     0.270     26          1  \n",
       "..    ...                       ...    ...        ...  \n",
       "549  28.5                     0.680     37          0  \n",
       "43   45.4                     0.721     54          1  \n",
       "177  67.1                     0.319     26          1  \n",
       "691  42.3                     0.257     44          1  \n",
       "106  22.4                     0.207     27          0  \n",
       "\n",
       "[768 rows x 9 columns]"
      ]
     },
     "execution_count": 39,
     "metadata": {},
     "output_type": "execute_result"
    }
   ],
   "source": [
    "# Ordenando por pressao_sanguinea (ordem crescente)\n",
    "df.sort_values('pressao_sanguinea', ascending=True)"
   ]
  },
  {
   "cell_type": "code",
   "execution_count": null,
   "metadata": {
    "colab": {},
    "colab_type": "code",
    "id": "Ds1CyOwM0U-f",
    "outputId": "04833f7e-8d28-4172-c289-b9e67394ab71"
   },
   "outputs": [],
   "source": [
    "# Ordenando por mais de uma coluna (decrescente)\n",
    "df.sort_values(['glicose','pressao_sanguinea'], ascending=False)"
   ]
  },
  {
   "cell_type": "code",
   "execution_count": null,
   "metadata": {
    "colab": {},
    "colab_type": "code",
    "id": "j8DI1taV0U-s",
    "outputId": "7f2d042b-04ff-4843-bba3-96ab9c80080b"
   },
   "outputs": [],
   "source": [
    "# tail\n",
    "df.tail()"
   ]
  },
  {
   "cell_type": "markdown",
   "metadata": {
    "colab_type": "text",
    "id": "hxtjbzTc0U-u"
   },
   "source": [
    "## Transformando os dados"
   ]
  },
  {
   "cell_type": "markdown",
   "metadata": {},
   "source": [
    "### Respostas do desafio da aula passada."
   ]
  },
  {
   "cell_type": "markdown",
   "metadata": {},
   "source": [
    "#### 1 - A coluna 'glicose' crie uma nova coluna chamada 'analise_glicose' informando: 'conforme' e 'nao_conforme'."
   ]
  },
  {
   "cell_type": "code",
   "execution_count": null,
   "metadata": {},
   "outputs": [],
   "source": [
    "df = df.assign(analise_glicose = np.where(df['glicose'] > 100, 'nao_conforme', 'conforme'))"
   ]
  },
  {
   "cell_type": "markdown",
   "metadata": {},
   "source": [
    "#### 2 - A coluna 'imc' crie uma nova coluna chamada 'class_imc' informando: 'magreza', 'normal', 'sobrepeso', 'obsidade_ii', 'obsidade_iii'"
   ]
  },
  {
   "cell_type": "code",
   "execution_count": null,
   "metadata": {},
   "outputs": [],
   "source": [
    "condicoes = [\n",
    "    (df['imc'] < 18.5),\n",
    "    (df['imc'] >= 18.5) & (df['imc'] < 24.9),\n",
    "    (df['imc'] >= 25) & (df['imc'] < 29.9),\n",
    "    (df['imc'] >= 30) & (df['imc'] < 39.9),\n",
    "    (df['imc'] > 40)\n",
    "    ]\n",
    "\n",
    "# create a list of the values we want to assign for each condition\n",
    "valores = ['magreza', 'normal', 'sobrepeso', 'obesidade_ii', 'obesidade_iii']\n",
    "\n",
    "# create a new column and use np.select to assign values to it using our lists as arguments\n",
    "df['class_imc'] = np.select(condicoes, valores)"
   ]
  },
  {
   "cell_type": "markdown",
   "metadata": {},
   "source": [
    "#### 3 - A coluna 'resultado' crie uma coluna 'class_resultado' informando: 'positivo' e 'negativo'"
   ]
  },
  {
   "cell_type": "code",
   "execution_count": null,
   "metadata": {},
   "outputs": [],
   "source": [
    "df = df.assign(class_resultado = np.where(df['resultado'] == 0, 'negativo', 'positivo'))"
   ]
  },
  {
   "cell_type": "code",
   "execution_count": null,
   "metadata": {
    "scrolled": true
   },
   "outputs": [],
   "source": [
    "df.head()"
   ]
  },
  {
   "cell_type": "markdown",
   "metadata": {},
   "source": [
    "#### Resumos estatísticos:"
   ]
  },
  {
   "cell_type": "code",
   "execution_count": null,
   "metadata": {},
   "outputs": [],
   "source": [
    "display(\"Resumos estatísticos: Análise - Glicose\")\n",
    "display(df[df.loc[:,\"analise_glicose\"] == 'nao_conforme'].describe().transpose().round(2))\n",
    "display(df[df.loc[:,\"analise_glicose\"] == 'conforme'].describe().transpose().round(2))\n",
    "\n",
    "display(\"Resumos estatísticos: Análise - IMC\")\n",
    "display(df[df.loc[:,\"class_imc\"] == 'magreza'].describe().transpose().round(2))\n",
    "display(df[df.loc[:,\"class_imc\"] == 'normal'].describe().transpose().round(2))\n",
    "display(df[df.loc[:,\"class_imc\"] == 'sobrepeso'].describe().transpose().round(2))\n",
    "display(df[df.loc[:,\"class_imc\"] == 'obesidade_ii'].describe().transpose().round(2))\n",
    "display(df[df.loc[:,\"class_imc\"] == 'obesidade_iii'].describe().transpose().round(2))\n",
    "\n",
    "display(\"Resumos estatísticos: Análise - Resultado\")\n",
    "display(df[df.loc[:,\"class_resultado\"] == 'positivo'].describe().transpose().round(2))\n",
    "display(df[df.loc[:,\"class_resultado\"] == 'negativo'].describe().transpose().round(2))"
   ]
  },
  {
   "cell_type": "markdown",
   "metadata": {},
   "source": [
    "### Excluir"
   ]
  },
  {
   "cell_type": "code",
   "execution_count": null,
   "metadata": {},
   "outputs": [],
   "source": [
    "#sem o inplace=True\n",
    "#documentação do drop: axis{0 or ‘index’, 1 or ‘columns’}, default 0    "
   ]
  },
  {
   "cell_type": "code",
   "execution_count": null,
   "metadata": {},
   "outputs": [],
   "source": [
    "df.drop('resultado', axis=1, inplace=False)"
   ]
  },
  {
   "cell_type": "code",
   "execution_count": null,
   "metadata": {},
   "outputs": [],
   "source": [
    "#com inplace=True\n",
    "df.drop('resultado', axis=1, inplace=True)"
   ]
  },
  {
   "cell_type": "markdown",
   "metadata": {},
   "source": [
    "### Apagado!!!"
   ]
  },
  {
   "cell_type": "markdown",
   "metadata": {},
   "source": [
    "### Exercício 1:"
   ]
  },
  {
   "cell_type": "markdown",
   "metadata": {},
   "source": [
    "### Quais pacientes estão com o IMC classificado como sobrepeso e o resultado do exame foi positivo?"
   ]
  },
  {
   "cell_type": "code",
   "execution_count": null,
   "metadata": {
    "colab": {},
    "colab_type": "code",
    "id": "y96CR_iE0U-_",
    "outputId": "9a96c8d1-768b-463e-d376-264c34e40f9d"
   },
   "outputs": [],
   "source": []
  },
  {
   "cell_type": "markdown",
   "metadata": {},
   "source": [
    "### Exercicio 2:"
   ]
  },
  {
   "cell_type": "markdown",
   "metadata": {
    "colab_type": "text",
    "id": "17nF7XC00U_G"
   },
   "source": [
    "### Quais pacientes estão com o IMC classificado como magreza, analise da glicose não conforme e o resultado do exame foi negativo?"
   ]
  },
  {
   "cell_type": "code",
   "execution_count": null,
   "metadata": {
    "colab": {},
    "colab_type": "code",
    "id": "Ne7ZKfsT0U_G"
   },
   "outputs": [],
   "source": []
  },
  {
   "cell_type": "markdown",
   "metadata": {},
   "source": [
    "### Exercicio 3:"
   ]
  },
  {
   "cell_type": "markdown",
   "metadata": {},
   "source": [
    "### Quais pacientes estão com o IMC classificado como obesidade 2, acima dos 50 anos e o resultado do exame foi positivo?"
   ]
  },
  {
   "cell_type": "code",
   "execution_count": null,
   "metadata": {},
   "outputs": [],
   "source": []
  },
  {
   "cell_type": "markdown",
   "metadata": {
    "colab_type": "text",
    "id": "lw2GB-fA0U_f"
   },
   "source": [
    "## Exportando o Data Frame"
   ]
  },
  {
   "cell_type": "code",
   "execution_count": null,
   "metadata": {},
   "outputs": [],
   "source": [
    "# Exportando para csv:\n",
    "df.to_csv('diabetes_pandas.csv', sep=';')"
   ]
  },
  {
   "cell_type": "code",
   "execution_count": null,
   "metadata": {
    "colab": {},
    "colab_type": "code",
    "id": "oYrgSUZ50U_f"
   },
   "outputs": [],
   "source": [
    "# Exportando para Excel:\n",
    "df.to_excel('diabetes_pandas.xlsx')"
   ]
  },
  {
   "cell_type": "code",
   "execution_count": null,
   "metadata": {},
   "outputs": [],
   "source": [
    "#Verifique a pasta em que o jupyter notebook foi salvo!"
   ]
  },
  {
   "cell_type": "markdown",
   "metadata": {},
   "source": [
    "## Desafio:\n",
    "---\n",
    "\n",
    "#### Vamos análisar o seguinte gráfico:"
   ]
  },
  {
   "cell_type": "code",
   "execution_count": null,
   "metadata": {},
   "outputs": [],
   "source": [
    "# Bibliotecas para construção de gráficos:\n",
    "import seaborn as sns\n",
    "import matplotlib.pyplot as plt\n",
    "\n",
    "# Gráfico de histograma do resultado negativo:\n",
    "sns.histplot(df.loc[df.loc[:,'class_resultado']=='negativo', 'idade'], label='Negativo', kde=True, color = \"Green\")\n",
    "\n",
    "# Gráfico de histograma do resultado positivo:\n",
    "sns.histplot(df.loc[df.loc[:,'class_resultado']=='positivo', 'idade'], label='Positivo', kde=True, color = \"Orange\")\n",
    "\n",
    "# Customização do gráfico:\n",
    "plt.legend(prop={'size': 12})\n",
    "plt.title('A relação entre o resultado do exame e a idade \\n', fontsize = 16)\n",
    "plt.xlabel('Idade')\n",
    "plt.ylabel('Contagem')  \n",
    "sns.set(rc={'figure.figsize':(10,4)})"
   ]
  },
  {
   "cell_type": "markdown",
   "metadata": {},
   "source": [
    "A primeira impressão verificamos quanto mais novo as paciêntes a ocorrência de resultados dos exames negativos são bem maiores do que os positivos, existe tambem uma caracteristica que a ocorrência que os resultados positivos são quase continuos entre 20 e 45 anos.\n",
    "\n",
    "1 - Utilizando a variável 'idade' criar uma coluna de faixas etárias com 4 faixas com quantidades iguais.(Dica: pesquise sobre a função qcut e utilize 'labels' nas colunas)\n",
    "\n",
    "2 - Construa um resumo estatístico com a primeira faixa etária com o resultado do exame positivo.\n",
    "\n",
    "3 - Construa um resumo estatístico com a última faixa etária com o resultado do exame negativo.\n",
    "\n",
    "4 - Construa um resumo estatístico com as variáveis glicose, pressão sanguinea e insulina de cada faixa etária criada.\n",
    "\n",
    "5 - Criar uma base que o resultado do exame é negativo e tem IMC classificado de obesidade de grau 2 e exporte esse DataFrame Pandas para MS Excel."
   ]
  },
  {
   "cell_type": "code",
   "execution_count": null,
   "metadata": {},
   "outputs": [],
   "source": []
  }
 ],
 "metadata": {
  "colab": {
   "collapsed_sections": [
    "DKGRg1i40U9w",
    "4k7O9uCE0U-B",
    "TWT8nHP70U-M",
    "woBkId130U-c",
    "hxtjbzTc0U-u",
    "lj3a_uKn0U-3",
    "mER2KJLa0U_F",
    "lw2GB-fA0U_f"
   ],
   "name": "DSTN07 -  Pandas Parte II - MATERIAL PROFESSOR .ipynb",
   "provenance": []
  },
  "kernelspec": {
   "display_name": "Python 3 (ipykernel)",
   "language": "python",
   "name": "python3"
  },
  "language_info": {
   "codemirror_mode": {
    "name": "ipython",
    "version": 3
   },
   "file_extension": ".py",
   "mimetype": "text/x-python",
   "name": "python",
   "nbconvert_exporter": "python",
   "pygments_lexer": "ipython3",
   "version": "3.9.12"
  },
  "toc": {
   "base_numbering": 1,
   "nav_menu": {},
   "number_sections": true,
   "sideBar": true,
   "skip_h1_title": false,
   "title_cell": "Table of Contents",
   "title_sidebar": "Contents",
   "toc_cell": false,
   "toc_position": {
    "height": "calc(100% - 180px)",
    "left": "10px",
    "top": "150px",
    "width": "252px"
   },
   "toc_section_display": true,
   "toc_window_display": true
  }
 },
 "nbformat": 4,
 "nbformat_minor": 4
}
